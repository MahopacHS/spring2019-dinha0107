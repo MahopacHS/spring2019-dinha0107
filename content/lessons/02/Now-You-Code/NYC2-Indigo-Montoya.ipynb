{
  "cells": [
    {
      "metadata": {},
      "cell_type": "markdown",
      "source": "# Now You Code 2: Indigo Montoya\n\n[The Pricess Bride](https://www.rottentomatoes.com/m/princess_bride/) is an adventure film from the 80's, a true cult classic. One of the many notable scenes involves a character Indigo Montoya who explains his character's motivation for revenge through the catch-phase:\n\n\"Hello. My name is Indigo Montoya. You killed my father. Prepare to die!\"\n\nYou can watch the clip here: [https://www.youtube.com/watch?v=YY4cnMmo9qw](https://www.youtube.com/watch?v=YY4cnMmo9qw)\n\nWrite a program in Python which asks the user to enter **your name**, a **relative** and an **past-tense action**. For example if you enter \"Indigo Montoya\", \"Father\" and \"killed\", the program will then output:\n\n\"Hello. My name is Indigo Montoya. You killed my father. Prepare to die!\"\n\nOr you could input \"Mike Fudge\", \"Uncle\" and \"Tickled\" to get:\n\n\"Hello. My name is Mike Fudge. You Tickled my Uncle. Prepare to die!\"\n"
    },
    {
      "metadata": {
        "collapsed": true
      },
      "cell_type": "markdown",
      "source": "## Step 1: Problem Analysis\n\nInputs:\n\nenter a name, a relative, and a past tense verb\n\nOutputs: \n\n\"Hello. My name is (name), you (verbed) my (relative), prepare to die😡\"\n\nAlgorithm (Steps in Program):\n\ninput a name\ninput the relative\ninput a verb in past tense\noutput the quote"
    },
    {
      "metadata": {
        "trusted": true
      },
      "cell_type": "code",
      "source": "name = input(\"Enter your name: \")\nrelative = input(\"Enter a relative, ie mother, uncle, etc: \")\npasttense = input(\"Enter a verb in past tense: \")\nprint(\"Hello. My name is \",name,\" , you \",pasttense,\" my \",relative,\" , prepare to die (︶^︶' \")",
      "execution_count": 2,
      "outputs": [
        {
          "output_type": "stream",
          "name": "stdout",
          "text": "Enter your name: fed\nEnter a relative, ie mother, uncle, etc: father\nEnter a verb in past tense: held\nHello. My name is  fed  , you  held  my  father  , prepare to die (︶^︶' \n"
        }
      ]
    },
    {
      "metadata": {},
      "cell_type": "markdown",
      "source": "\n## Step 3: Questions\n\n1. What happens when neglect the instructions and enter a past-tense action instead of a name? Does the code still run? Why?\n2. What type of error it when the program runs but does not handle bad input?\n3. Is there anything you can do in code to correct this type of error? Why or why not?"
    },
    {
      "metadata": {
        "trusted": true
      },
      "cell_type": "code",
      "source": "##1. The code will still work, the sentence format might not make English sense, but it will still run\n#2. Logical error. It will still run, but it doesn't know what should be the correct name in the name input\n#3. I don't theink there is anything to fix it, unless you specifically describe what you want inputted in the line. ",
      "execution_count": null,
      "outputs": []
    },
    {
      "metadata": {},
      "cell_type": "markdown",
      "source": "## Reminder of Evaluation Criteria\n\n1. What the problem attempted (analysis, code, and answered questions) ?\n2. What the problem analysis thought out? (does the program match the plan?)\n3. Does the code execute without syntax error?\n4. Does the code solve the intended problem?\n5. Is the code well written? (easy to understand, modular, and self-documenting, handles errors)\n"
    },
    {
      "metadata": {
        "trusted": true
      },
      "cell_type": "code",
      "source": "#1. The task was to take the quote and fill it in with our own words, which were name, relative and a past tense verb.\n#2. The program matched the plan. \n#3. Yes, it executed without syntax error. \n#4. The code does solve the intended problem.\n#5. The code is easy to understand, since I named all the variable names relative to what I wanted collected from the user. ",
      "execution_count": null,
      "outputs": []
    }
  ],
  "metadata": {
    "anaconda-cloud": {},
    "kernelspec": {
      "name": "python3",
      "display_name": "Python 3",
      "language": "python"
    },
    "language_info": {
      "mimetype": "text/x-python",
      "nbconvert_exporter": "python",
      "name": "python",
      "pygments_lexer": "ipython3",
      "version": "3.5.4",
      "file_extension": ".py",
      "codemirror_mode": {
        "version": 3,
        "name": "ipython"
      }
    }
  },
  "nbformat": 4,
  "nbformat_minor": 1
}