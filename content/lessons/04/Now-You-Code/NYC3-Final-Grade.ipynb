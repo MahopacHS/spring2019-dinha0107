{
  "cells": [
    {
      "metadata": {},
      "cell_type": "markdown",
      "source": "# Now You Code 3: Final Grade in IST256\n\n# Part 1\n\nOur Course Syllabus has a grading scale here:\n\nhttp://ist256.syr.edu/syllabus/#grading-scale\n\nWrite a Python program to input a number of points earned out of 600 and then\noutputs the registrar letter grade. \n\nFor example:\n\n    IST256 Grade Calculator\n    Enter total points out of 600:  550\n    Grade: A- \n"
    },
    {
      "metadata": {
        "collapsed": true
      },
      "cell_type": "markdown",
      "source": "## Step 1: Problem Analysis\n\nInputs: enter student's grade out of 600\n\nOutputs: print letter grade\n\nAlgorithm (Steps in Program):\n\ninput student's total points\ncalculate student percentage\nprint letter grade\n\n\n"
    },
    {
      "metadata": {
        "trusted": true
      },
      "cell_type": "code",
      "source": "#Step 2: write code here\nletter=int(input(\"Enter the student's grade out of 600: \"))\n\nif (letter>=570):\n    print(\"Your letter grade is A!\")\nelif (letter<=569 and letter>=540):\n    print(\"The letter grade is an A-\")\nelif (letter<=539 and letter>=510):\n    print(\"The letter grade is a B+\")\nelif (letter<=509 and letter>=480):\n    print(\"The letter grade is a B\")\nelif (letter<=479 and letter>=450):\n    print(\"The letter grade is a B-\")\nelif (letter<=549 and letter>=420):\n    print(\"The letter grade is a C+\")\nelif (letter<=419 and letter>=390):\n    print(\"The letter grade is a C\")\nelif (letter<=389 and letter>=360):\n    print(\"The letter grade is a C-\")\nelse:\n    print(\"ThIS iS uNaCcePtAbleeEEeeEE!\")",
      "execution_count": 3,
      "outputs": [
        {
          "output_type": "stream",
          "name": "stdout",
          "text": "Enter the student's grade out of 600: 100\nThIS iS uNaCcePtAbleeEEeeEE!\n"
        }
      ]
    },
    {
      "metadata": {},
      "cell_type": "markdown",
      "source": "# Part 2\n\nNow that you got it working,  re-write your code to handle bad input. Specifically:\n\n\n- non integer values\n- integer values outside the 0 to 600 range.\n\n**Note:** Exception handling is not part of our algorithm. It's a programming concern, not a problem-solving concern!"
    },
    {
      "metadata": {
        "trusted": true
      },
      "cell_type": "code",
      "source": "## Step 2 (again): write code again but handle errors with try...except\n\nletter=input(\"Enter the student's grade out of 600: \")\n\ntry: \n    if (letter>=570):\n        print(\"Your letter grade is A!\")\n    elif (letter<=569 and letter>=540):\n        print(\"The letter grade is an A-\")\n    elif (letter<=539 and letter>=510):\n        print(\"The letter grade is a B+\")\n    elif (letter<=509 and letter>=480):\n        print(\"The letter grade is a B\")\n    elif (letter<=479 and letter>=450):\n        print(\"The letter grade is a B-\")\n    elif (letter<=549 and letter>=420):\n        print(\"The letter grade is a C+\")\n    elif (letter<=419 and letter>=390):\n        print(\"The letter grade is a C\")\n    elif (letter<=389 and letter>=360):\n        print(\"The letter grade is a C-\")\n    elif (letter<=359 and letter>=0):\n        print(\"ThIS iS uNaCcePtAbleeEEeeEE!\")\n    else: \n        print(\"I see that you have not mastered going to school\")\nexcept:\n    print(\"oof you shouldn't be here. you made an invalid move my dude/dudette\")",
      "execution_count": 12,
      "outputs": [
        {
          "output_type": "stream",
          "name": "stdout",
          "text": "Enter the student's grade out of 600: one\noof you shouldn't be here. you made an invalid move my dude/dudette\n"
        }
      ]
    },
    {
      "metadata": {},
      "cell_type": "markdown",
      "source": "## Step 3: Questions\n\n1. What specific Python Error are we handling (please provide the name of it)?\n2. How many times must you execute this program and check the output before you canbe reasonably assured your code is correct? Explain.\n3. When testing this program do you think its more important to test numbers in the middle of the grade range or exactly on the boundary between one grade range and the next. Justify your response."
    },
    {
      "metadata": {
        "trusted": true
      },
      "cell_type": "code",
      "source": "#1. We are handeling syntax errors, since we don't want people to enter in a negative number or a number in word form. \n#2. At least 5 times to check if a valid number was entered, see what happens if a negative number was entere, and check numbrs in word for. I check a few times to make sure each section works the way it should. \n#3. I think you should test numbers on both the middle and extremes, because it might work in one area, and might not in another so you want to make sure all aspects work. ",
      "execution_count": null,
      "outputs": []
    },
    {
      "metadata": {},
      "cell_type": "markdown",
      "source": "## Reminder of Evaluation Criteria\n\n1. What the problem attempted (analysis, code, and answered questions) ?\n2. What the problem analysis thought out? (does the program match the plan?)\n3. Does the code execute without syntax error?\n4. Does the code solve the intended problem?\n5. Is the code well written? (easy to understand, modular, and self-documenting, handles errors)\n"
    },
    {
      "metadata": {
        "trusted": true
      },
      "cell_type": "code",
      "source": "#1. The problem was to take the grade out of 600 and make it a letter grade given the input number\n#2. It was an input, check number and output letter grade, so yes it matches the plan. \n#3. There is one minor tweaking that I couldn't get to work and that is if the user inputs a negative number, the statement in the else is what it will say. \n#4. The code solves the problem of giving the letter grade with the inputted number grade. \n#5. It is easy to understand and follow, although it could possibly be condensed but at the time of typing this i'm not sure how i could possibly condense it to be simplier.  ",
      "execution_count": null,
      "outputs": []
    }
  ],
  "metadata": {
    "anaconda-cloud": {},
    "kernelspec": {
      "name": "python3",
      "display_name": "Python 3",
      "language": "python"
    },
    "language_info": {
      "mimetype": "text/x-python",
      "nbconvert_exporter": "python",
      "name": "python",
      "pygments_lexer": "ipython3",
      "version": "3.5.4",
      "file_extension": ".py",
      "codemirror_mode": {
        "version": 3,
        "name": "ipython"
      }
    }
  },
  "nbformat": 4,
  "nbformat_minor": 1
}