{
  "cells": [
    {
      "metadata": {},
      "cell_type": "markdown",
      "source": "# Now You Code 2: Paint Pricing\n\nHouse Depot, a big-box hardware retailer, has contracted you to create an app to calculate paint prices. \n\nThe price of paint is determined by the following factors:\n- Everyday quality paint is `$19.99` per gallon.\n- Select quality paint is `$24.99` per gallon.\n- Premium quality paint is `$32.99` per gallon.\n\nIn addition if the customer wants computerized color-matching that incurs an additional fee of `$4.99` per gallon. \n\nWrite a program to ask the user to select a paint quality: 'everyday', 'select' or 'premium' and then whether they need color matching and then outputs the price per gallon of the paint.\n\nExample Run 1:\n\n```\nWhich paint quality do you require ['everyday', 'select', 'premium'] ?select\nDo you require color matching [y/n] ?y\nTotal price of select paint with color matching is $29.98\n```\n\nExample Run 2:\n\n```\nWhich paint quality do you require ['everyday', 'select', 'premium'] ?premium\nDo you require color matching [y/n] ?n\nTotal price of premium paint without color matching is $32.99\n```"
    },
    {
      "metadata": {
        "collapsed": true
      },
      "cell_type": "markdown",
      "source": "## Step 1: Problem Analysis\n\nInputs: ask user which paint quality they want, ask user if they want paint color matching.\n\nOutputs: the price of the paint\n\nAlgorithm (Steps in Program): input paint quality, input color match, calculate price, output total price. \n\n"
    },
    {
      "metadata": {
        "trusted": true
      },
      "cell_type": "code",
      "source": "# Step 2: Write code here\nquality=input(\"Which paint quality to you require to complete the task? Everyday, Select or Premium?\") \ntry: \n    CM=input(\"Do you want to color match?? enter y or n \")\n    if (quality==\"everyday\" or quality=='Everyday'):\n        print(\"Before colour match it will cost $19.99\")\n    elif (quality==\"select\" or quality=='Select'):\n        print(\"Before colour match it will cost $24.99\")\n    else:\n        print(\"before colour match it will cost $32.99\")\n    \n    if (CM=='y' and (quality==\"everyday\" or quality=='Everyday')):\n        print(\"Price after colour match will cost $24.98\")\n    elif (CM=='y' and (quality==\"select\" or quality=='Select')):\n        print(\"The price after colour match will be $29.98\")\n    elif (CM=='y' and (quality==\"premium\" or quality=='Premium')):\n        print(\"Pricy but it will cost you $37.98\")\n    elif (CM !='n' and CM !='y'):\n          print(\"Invalid colour match answer, please enter y or n\")\n    else:\n        print(\"There is no price change\")\nexcept: \n        print(\"that is not a paint quality. . .\")",
      "execution_count": 13,
      "outputs": [
        {
          "output_type": "stream",
          "name": "stdout",
          "text": "Which paint quality to you require to complete the task? Everyday, Select or Premium?select\nDo you want to color match?? enter y or nf\nBefore colour match it will cost $24.99\nInvalid colour match answer, please enter y or n\n"
        }
      ]
    },
    {
      "metadata": {},
      "cell_type": "markdown",
      "source": "## Step 3: Questions\n\n1. When you enter something other than `'everyday', 'select',` or  `'premium'` what happens? Modify the program to print `that is not a paint quality` and then exit in those cases.\n2. What happens when you enter something other than `'y'` or `'n'` for color matching? Re-write the program to print `you must enter y or n` whenever you enter something other than those two values.\n3. Why can't we use Python's `try...except` in this example?\n4. How many times (at minimum) must we execute this program and check the results before we can be reasonably assured it is correct?\n"
    },
    {
      "metadata": {
        "trusted": true
      },
      "cell_type": "code",
      "source": "#1. if the user types something other than the gievn choices, it will print that it is not a paint quality. \n#2. If user types anything but y or n then the program will tell them to enter a y or n next time they run it. \n#3. ... I used the try..except in this example. Was it not supposed to be possible?\n#4. 3 paint options * y/n options = 6 then add two, one to validate paint type and one to validate paint colour match, so 8?",
      "execution_count": null,
      "outputs": []
    },
    {
      "metadata": {},
      "cell_type": "markdown",
      "source": "## Reminder of Evaluation Criteria\n\n1. What the problem attempted (analysis, code, and answered questions) ?\n2. What the problem analysis thought out? (does the program match the plan?)\n3. Does the code execute without syntax error?\n4. Does the code solve the intended problem?\n5. Is the code well written? (easy to understand, modular, and self-documenting, handles errors)\n"
    },
    {
      "metadata": {
        "collapsed": true,
        "trusted": false
      },
      "cell_type": "code",
      "source": "#1. the problem was to calculate paint price and add on colour match price if needed. \n#2. the program matches the thoughtout process\n#3. there will be user mistypes that will print an error on their screen\n#4. yes it does\n#5. the code is written simply. ",
      "execution_count": null,
      "outputs": []
    }
  ],
  "metadata": {
    "anaconda-cloud": {},
    "kernelspec": {
      "name": "python3",
      "display_name": "Python 3",
      "language": "python"
    },
    "language_info": {
      "mimetype": "text/x-python",
      "nbconvert_exporter": "python",
      "name": "python",
      "pygments_lexer": "ipython3",
      "version": "3.5.4",
      "file_extension": ".py",
      "codemirror_mode": {
        "version": 3,
        "name": "ipython"
      }
    }
  },
  "nbformat": 4,
  "nbformat_minor": 1
}