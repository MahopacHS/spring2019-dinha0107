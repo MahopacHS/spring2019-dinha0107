{
  "cells": [
    {
      "metadata": {},
      "cell_type": "markdown",
      "source": "# Now You Code 2: Multiply By\n\nWrite a program to ask for a number to multiply by and then lists the multiplication table for that number from 1 to 10. This process will repeat until you enter quit as which point the program will exit.\n\nWow. Seems complicated! We'll use technique called problem simplification to make this problem a little easier to solve.\n\nFirst we'll write a complete program to solve *part* of the problem, then we will take our new level of understanding to solve the *entire* problem.\n\n## Start with Sub-Problem 1\n\nLet's write a program to simply input a number and then uses a loop to print out the multiplication table up to 10  for that number. \n\nFor example, when you input `5`:\n\n```\nEnter number to multiply by: 5\n1 x 5 = 5\n2 x 5 = 10\n3 x 5 = 15\n4 x 5 = 20\n5 x 5 = 25\n6 x 5 = 30\n7 x 5 = 35\n8 x 5 = 40\n9 x 5 = 45\n10 x 5 = 50\n```\n"
    },
    {
      "metadata": {
        "collapsed": true
      },
      "cell_type": "markdown",
      "source": "## Step 1: Problem Analysis for Sub-Problem 1\n\nInputs: user enters number see see mulitples of\n\nOutputs: print mulitples of entered number 1-10\n\nAlgorithm (Steps in Program): \n\nenter number\nmultiply each number by 1-10\nprint numbers on screen\nif 'quit' then exit program\n\n"
    },
    {
      "metadata": {
        "trusted": true
      },
      "cell_type": "code",
      "source": "# Step 2: write code for sub-problem 1\n\nmulti=input(\"Enter a number to be multiplied by: \")\nwhile True:\n    if (multi=='quit'):\n        print(\"So long friend\")\n        break\n    else:\n        one=int(multi)*1\n        two=int(multi)*2\n        three=int(multi)*3\n        four=int(multi)*4\n        five=int(multi)*5\n        six=int(multi)*6\n        seven=int(multi)*7\n        eight=int(multi)*8\n        nine=int(multi)*9\n        ten=int(multi)*10\n        print(\"1 x \", multi, \" = \", one)\n        print(\"2 x \", multi, \" = \", two)\n        print(\"3 x \", multi, \" = \", three)\n        print(\"4 x \", multi, \" = \", four)\n        print(\"5 x \", multi, \" = \", five)\n        print(\"6 x \", multi, \" = \", six)\n        print(\"7 x \", multi, \" = \", seven)\n        print(\"8 x \", multi, \" = \", eight)\n        print(\"9 x \", multi, \" = \", nine)\n        print(\"10 x \", multi, \" = \", ten)\n        break;",
      "execution_count": 14,
      "outputs": [
        {
          "output_type": "stream",
          "name": "stdout",
          "text": "Enter a number to be multiplied by: quit\nSo long friend\n"
        }
      ]
    },
    {
      "metadata": {},
      "cell_type": "markdown",
      "source": "# Full Problem \n\nNow that we've got part of the problem figured out, let's solve the entire problem. The program should keep asking for numbers and then print out multiplcation tables until you enter `quit`. Here's an example:\n\nExample Run:\n\n```\nEnter number to multiply by or type 'quit': 10\n1 x 10 = 10\n2 x 10 = 20\n3 x 10 = 30\n4 x 10 = 40\n5 x 10 = 50\n6 x 10 = 60\n7 x 10 = 70\n8 x 10 = 80\n9 x 10 = 90\n10 x 10 = 100\nEnter number to multiply by or type 'quit': 5\n1 x 5 = 5\n2 x 5 = 10\n3 x 5 = 15\n4 x 5 = 20\n5 x 5 = 25\n6 x 5 = 30\n7 x 5 = 35\n8 x 5 = 40\n9 x 5 = 45\n10 x 5 = 50\nEnter number to multiply by or type 'quit': quit\n```\n\n**NOTE:** you need another loop complete this program. Take the code you wrote in the first part and repeat it in another loop until you type quit. "
    },
    {
      "metadata": {
        "collapsed": true
      },
      "cell_type": "markdown",
      "source": "## Step 3: Problem Analysis for Full Problem\n\nInputs: ask user for number, after printed answers ask to run again.\n\nOutputs: numbers after multiplication\n\nAlgorithm (Steps in Program): ask user for number, multiply a number, display numbers, ask to go again until quit\n"
    },
    {
      "metadata": {
        "trusted": true
      },
      "cell_type": "code",
      "source": "# Step 4: Write code for full problem\nwhile True:\n    multi=input(\"Enter a number to be multiplied by: \")\n    if (multi=='quit'):\n        print(\"So long friend\")\n        break\n    else:\n        M=int(multi)\n        for x in range(1,11):\n            print(\"%d X %d = %d\" %(x,M,x*M))\n        break;\n",
      "execution_count": 4,
      "outputs": [
        {
          "output_type": "stream",
          "name": "stdout",
          "text": "Enter a number to be multiplied by: 5\n1 X 5 = 5\n2 X 5 = 10\n3 X 5 = 15\n4 X 5 = 20\n5 X 5 = 25\n6 X 5 = 30\n7 X 5 = 35\n8 X 5 = 40\n9 X 5 = 45\n10 X 5 = 50\n"
        }
      ]
    },
    {
      "metadata": {},
      "cell_type": "markdown",
      "source": "## Step 3: Questions\n\n1. What is the loop control variable for the first (outer) loop?\n2. What is the loop control variable for the second (inner) loop?\n3. Provide at least one way this program can be improved, or make more flexible by introducing more inputs?\n"
    },
    {
      "metadata": {
        "trusted": true
      },
      "cell_type": "code",
      "source": "#1. for the outer loop (first loop), it is a while-true loop\n#2. the inner loop (second loop), is an if-else loop\n#3. I think this could be simplified in the multiplication where it has to both calculate and print. edit: i learned anything that can be copy-pasted can be thrown into a loop",
      "execution_count": null,
      "outputs": []
    },
    {
      "metadata": {},
      "cell_type": "markdown",
      "source": "## Reminder of Evaluation Criteria\n\n1. What the problem attempted (analysis, code, and answered questions) ?\n2. What the problem analysis thought out? (does the program match the plan?)\n3. Does the code execute without syntax error?\n4. Does the code solve the intended problem?\n5. Is the code well written? (easy to understand, modular, and self-documenting, handles errors)\n"
    },
    {
      "metadata": {
        "collapsed": true,
        "trusted": false
      },
      "cell_type": "code",
      "source": "#1. the problem attempted is to take the number a user inputs and multiply it by the times table from 1 to 10 then output the values. \n#2. the program matches the plan\n#3. this program will only work with numbers as integers or the word quit. \n#4. the code does solve the intended problem.\n#5. the code is easy for me to follow (because i wrote it), but after getting help, i learned that you can throw code into a loop to do stuff easier ",
      "execution_count": null,
      "outputs": []
    }
  ],
  "metadata": {
    "anaconda-cloud": {},
    "kernelspec": {
      "name": "python3",
      "display_name": "Python 3",
      "language": "python"
    },
    "language_info": {
      "mimetype": "text/x-python",
      "nbconvert_exporter": "python",
      "name": "python",
      "pygments_lexer": "ipython3",
      "version": "3.5.4",
      "file_extension": ".py",
      "codemirror_mode": {
        "version": 3,
        "name": "ipython"
      }
    }
  },
  "nbformat": 4,
  "nbformat_minor": 1
}