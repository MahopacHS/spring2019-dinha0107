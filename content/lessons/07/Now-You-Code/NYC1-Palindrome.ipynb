{
  "cells": [
    {
      "metadata": {
        "trusted": true
      },
      "cell_type": "code",
      "source": "",
      "execution_count": null,
      "outputs": []
    },
    {
      "metadata": {},
      "cell_type": "markdown",
      "source": "# Now You Code 1: Palindrome Detector\n\nWrite a program to detect palindromes [https://en.wikipedia.org/wiki/Palindrome]. A palindrome is defined as a word or phrase which is the same in reverse. Here's some example's of one word palindromes:\n\n```\ndad\nwow\npop\nabba\nnoon\nkayak\nmadam\nsolos\nracecar\n```\n\nThere's several ways you accomplish this but we'd recommend using Python's extended slice notation as covered in the readings. It's by far the simplest method. \n\nThe final program should take input and return whether the text is or is not a palindrome until you enter `quit`.\n\nSample run of complete program:\n\n```\nEnter text or type `quit`: dad\n'dad' is a palindrome.\nEnter text or type `quit`: pappa\n'pappa' is not a palindrome.\nEnter text or type `quit`: quit\n```\n\nOnce again we will use the problem simplification technique to writing this program.\n\nFirst we will write the `isPalindrome(text)` function, then we will write the main program.\n"
    },
    {
      "metadata": {},
      "cell_type": "markdown",
      "source": "## Step 1: Problem Analysis for isPalindrome function only\n\nInputs:  enter a word\n\nOutputs:  true/false of word if palindrome\n\nAlgorithm (Steps in Program):  enter a word, check if same forwards and backwards -> true/false, print if is or isn't \n\n"
    },
    {
      "metadata": {
        "trusted": true
      },
      "cell_type": "code",
      "source": "## Step 2: todo write function definition here\ndef isPalindrome(text):\n    pali=input(\"Enter text or type quit: \")\n    same=pali[::-1]\n    if pali=='quit':\n        print(\"goodbye\")\n    elif pali==same:\n        print(\"%s is a palindrome \" %pali)\n        return True\n    else:\n        print(\"Invalid, not a palindrome\")\n        return False\n   \n",
      "execution_count": 5,
      "outputs": []
    },
    {
      "metadata": {
        "trusted": true
      },
      "cell_type": "code",
      "source": "## step 3: test the isPalindrome function to make sure it works:\nprint(\"Input:\", \"kayak\", \"Should be True, Actual Value:\", isPalindrome(\"kayak\") )\nprint(\"Input:\", \"mike\", \"Should be False, Actual Value:\", isPalindrome(\"mike\") )",
      "execution_count": null,
      "outputs": [
        {
          "output_type": "stream",
          "name": "stdout",
          "text": "Enter text or type quit: 12321\n12321 is a palindrome \nInput: kayak Should be True, Actual Value: True\n"
        }
      ]
    },
    {
      "metadata": {},
      "cell_type": "markdown",
      "source": "## Step 4: Problem Analysis for full Program\n\nInputs:\n\nOutputs:\n\nAlgorithm (Steps in Program):\n\n"
    },
    {
      "metadata": {
        "trusted": true
      },
      "cell_type": "code",
      "source": "## Step 5: todo write code for full problem, using the isPalindrome function to help you solve the problem\n\npali=input(\"Enter a word to check if Palindrome: \")\nprint(isPalindrome(pali))\n",
      "execution_count": 4,
      "outputs": [
        {
          "output_type": "stream",
          "name": "stdout",
          "text": "Enter a word to check if Palindrome: racecar\nEnter text or type quit: quit\ngoodbye\nNone\n"
        }
      ]
    },
    {
      "metadata": {},
      "cell_type": "markdown",
      "source": "## Step 6: Questions\n\n1. Did you use a loop inside your `isPalindrome` function? Can you think of a way to re-factor it without a loop?\n2. How many tests are required in step 3?\n3. What is the exit condition of the loop in the full program?\n"
    },
    {
      "metadata": {
        "trusted": true
      },
      "cell_type": "code",
      "source": "#1. Yes, I used the if-else loop, but I can't think of a way to refactor.\n#2. A few, one a real palindrome, a non-palindrome, and some numbers\n#3. the else",
      "execution_count": null,
      "outputs": []
    },
    {
      "metadata": {},
      "cell_type": "markdown",
      "source": "## Reminder of Evaluation Criteria\n\n1. What the problem attempted (analysis, code, and answered questions) ?\n2. What the problem analysis thought out? (does the program match the plan?)\n3. Does the code execute without syntax error?\n4. Does the code solve the intended problem?\n5. Is the code well written? (easy to understand, modular, and self-documenting, handles errors)\n"
    },
    {
      "metadata": {
        "collapsed": true,
        "trusted": false
      },
      "cell_type": "code",
      "source": "#1. to see if entered word is a palindrome or not\n#2. yes\n#3. yes, it reads both numbers and letters\n#4. yes, I can see if a word is a palindrome or not\n#5. I think it is. ",
      "execution_count": null,
      "outputs": []
    }
  ],
  "metadata": {
    "anaconda-cloud": {},
    "kernelspec": {
      "name": "python3",
      "display_name": "Python 3",
      "language": "python"
    },
    "language_info": {
      "mimetype": "text/x-python",
      "nbconvert_exporter": "python",
      "name": "python",
      "file_extension": ".py",
      "version": "3.5.4",
      "pygments_lexer": "ipython3",
      "codemirror_mode": {
        "version": 3,
        "name": "ipython"
      }
    }
  },
  "nbformat": 4,
  "nbformat_minor": 1
}