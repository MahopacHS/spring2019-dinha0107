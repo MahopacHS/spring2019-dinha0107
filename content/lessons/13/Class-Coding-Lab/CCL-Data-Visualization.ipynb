{
  "cells": [
    {
      "metadata": {},
      "cell_type": "markdown",
      "source": "# In-Class Coding Lab: Data Visualization\n\nThe goals of this lab are to help you understand:\n\n - The value of visualization: A picture is worth 1,000 words!\n - The various ways to visualize information\n - The basic requirements for any visualization\n - How to plot complex visualizations such as multi-series charts and maps\n - Visualization Tools:\n     - Matplolib\n     - Plot.ly\n     - Folium Maps\n     "
    },
    {
      "metadata": {
        "collapsed": true,
        "trusted": false
      },
      "cell_type": "code",
      "source": "%matplotlib inline \n\nimport matplotlib\nimport matplotlib.pyplot as plt\nimport plotly \nimport plotly.plotly as py     \nimport plotly.graph_objs as go  \nimport cufflinks as cf\nimport pandas as pd\nimport folium\nimport warnings\n#matplotlib.rcParams['figure.figsize'] = (20.0, 10.0) # larger figure size\nwarnings.filterwarnings('ignore')",
      "execution_count": null,
      "outputs": []
    },
    {
      "metadata": {},
      "cell_type": "markdown",
      "source": "## Back to the movie goers data set\n\nFor this lab, we will once again use the movie goers dataset. As you may recall this data set is a survey demographic survey of people who go to the movies. Let's reload the data and setup our `age_group` feature again."
    },
    {
      "metadata": {
        "trusted": false
      },
      "cell_type": "code",
      "source": "goers = pd.read_csv('ICCL-moviegoers.csv')\ngoers['age_group'] = ''\ngoers['age_group'][goers['age'] <=18] = 'Youth'\ngoers['age_group'][(goers['age'] >=19) & (goers['age'] <=55)] = 'Adult'\ngoers['age_group'][goers['age'] >=56] = 'Senior'\n\ngoers.sample(5)",
      "execution_count": null,
      "outputs": []
    },
    {
      "metadata": {},
      "cell_type": "markdown",
      "source": "## Visualizing Data\n\nThere are many ways your can visualize information. Which one is the most appropriate? It depends on the data, of course. \n\n- **Counting Categorial data** belongs in *charts like pie charts and bar charts*.\n- **Counting Numerical data** is best suited for *histograms*.\n- **Timeseries data and continuous data** belongs in *line charts*.\n- **A comparision of two continuous values** is best suited for a *scatter plot*. \n- **Geographical data** is best displauyed on *maps*.\n\nLet's use this knowledge to plot some data in the `goers` `DataFrame`!\n\n## Males or Females?\n\nThe first think we might want to visualize is a count gender in the dataset. A **pie** chart is well suited for this task as it displays data as a portion of a whole. To create a pie chart we need the data to count and the labels for the counts.\n\nLet's try it.\n\nFirst we get the value counts as a series `gender`:"
    },
    {
      "metadata": {
        "trusted": false
      },
      "cell_type": "code",
      "source": "gender = goers['gender'].value_counts()\ngender",
      "execution_count": null,
      "outputs": []
    },
    {
      "metadata": {},
      "cell_type": "markdown",
      "source": "Then we make it into a dataframe:"
    },
    {
      "metadata": {
        "trusted": false
      },
      "cell_type": "code",
      "source": "gender_df = pd.DataFrame( { 'Gender' : gender.index,  \"Counts\" : gender })\ngender_df",
      "execution_count": null,
      "outputs": []
    },
    {
      "metadata": {},
      "cell_type": "markdown",
      "source": "Then we plot! The index has the labels, and the value at the index is what we want to plot:"
    },
    {
      "metadata": {
        "trusted": false
      },
      "cell_type": "code",
      "source": "gender_df.plot.pie( y = 'Counts') # y are the values we are plotting",
      "execution_count": null,
      "outputs": []
    },
    {
      "metadata": {},
      "cell_type": "markdown",
      "source": "### Now You Try it!\n\nCreate a pie chart based on `age_group` first create a series of the `value_counts()` second, create the `DataFrame` with two columns `AgeGroup` and `Counts` then plot with `.plot.pie()`. \n\nFollow the steps we did in the previous three cells, but comvine into one cell!"
    },
    {
      "metadata": {
        "trusted": false
      },
      "cell_type": "code",
      "source": "#todo write code here\n",
      "execution_count": null,
      "outputs": []
    },
    {
      "metadata": {},
      "cell_type": "markdown",
      "source": "## Too many pieces of the pie?\n\nPie charts are nice, but they are only useful when you have a small number of labels. More that 5-7 labels and the pie becomes messy. For example take a look at this pie chart of `occupation`:"
    },
    {
      "metadata": {
        "trusted": false
      },
      "cell_type": "code",
      "source": "occ = goers['occupation'].value_counts()\nocc_df = pd.DataFrame( { 'occupation' : occ.index,  \"counts\" : occ })\nocc_df.plot.pie(y = 'counts')\n",
      "execution_count": null,
      "outputs": []
    },
    {
      "metadata": {},
      "cell_type": "markdown",
      "source": "That's crazy... and difficult to comprehend. Also pie charts visualize data as part of the whole. We have no idea how many students there are. Sometimes we want to know actual counts. This is where the **bar chart** comes in handy!\n\n## Raising the bar!\n\nLet's reproduce the same plot as a bar:"
    },
    {
      "metadata": {
        "trusted": false
      },
      "cell_type": "code",
      "source": "occ_df.plot.bar()",
      "execution_count": null,
      "outputs": []
    },
    {
      "metadata": {},
      "cell_type": "markdown",
      "source": "Ahh. that's much better. So much easier to understand!\n\n### Now you try it!\n\nWrite a one-liner to plot `groups_df` as a Bar!"
    },
    {
      "metadata": {
        "trusted": false
      },
      "cell_type": "code",
      "source": "# todo write code here\n",
      "execution_count": null,
      "outputs": []
    },
    {
      "metadata": {},
      "cell_type": "markdown",
      "source": "## When bar charts fail... \n\nBar charts have the same problem as pie charts. Too many categories overcomplicate the chart, or show the data in a meaningless way. For example, let's create a bart chart for ages: "
    },
    {
      "metadata": {
        "trusted": false
      },
      "cell_type": "code",
      "source": "ages = goers['age'].value_counts()\nages_df = pd.DataFrame( { 'age' : ages.index,  \"counts\" : ages })\nages_df.plot.bar(y = 'counts')",
      "execution_count": null,
      "outputs": []
    },
    {
      "metadata": {},
      "cell_type": "markdown",
      "source": "Meaningless. For two key reasons:\n\n1. too many categories\n2. age is a continuous variable not a categorical variable. In plain English, this means there's a relationship between one age and the next.  20 < 21 < 22. This is not represented in a bar chart.\n\n## ...Call in the Histogram!\n\nWhat we want is a **historgram**, which takes a continuous variable and loads counts into \"buckets\".  Notice how we didn't have to lump data with `value_counts()`. Histograms can do that automatically because the `age` variable is continuous. Let's try it:"
    },
    {
      "metadata": {
        "trusted": false
      },
      "cell_type": "code",
      "source": "goers.hist(column ='age')",
      "execution_count": null,
      "outputs": []
    },
    {
      "metadata": {},
      "cell_type": "markdown",
      "source": "## Plot.ly\n\n[Plot.ly](https://plot.ly) is data visualization as a service. You give it data, it gives you back a web-based plot. Plot.ly is free and works with a variety of environments and programming languages, including Python. \n\nFor Python is has bindings so that you can use it just like `matplotlib`! No need to manually invoke the web service call.\n\nTo get started with plot.ly you must sign up for an account and get a set of credentials:\n\n- Visit [https://plot.ly/settings/api](https://plot.ly/settings/api)\n- Create an account or sign-in with Google or GitHub\n- Generate your API key and paste your username and key in the code below:"
    },
    {
      "metadata": {
        "collapsed": true,
        "trusted": false
      },
      "cell_type": "code",
      "source": "# todo: setup the credentials replace ??? and ??? with your Plot.ly username and api_key\nplotly.tools.set_credentials_file(username='???', api_key='???')",
      "execution_count": null,
      "outputs": []
    },
    {
      "metadata": {},
      "cell_type": "markdown",
      "source": "Using plot.ly is as easy as, or sometimes easier than `matplotlib`. In most cases all you need to do is call `iplot()` on the data frame. For example, here's out first pie chart, plotly style:"
    },
    {
      "metadata": {
        "trusted": false
      },
      "cell_type": "code",
      "source": "gender_df.iplot(kind=\"pie\", labels = 'Gender', values='Counts') ",
      "execution_count": null,
      "outputs": []
    },
    {
      "metadata": {},
      "cell_type": "markdown",
      "source": "Notice that plot.ly is a bit more interactive. You can hover over the part of the pie chart and see counts!\n\n### Now You Try it!\n\nUse plotly's `iplot()` method to create a bar chart on the `occ_df` Data Frame:\n"
    },
    {
      "metadata": {
        "trusted": false
      },
      "cell_type": "code",
      "source": "# todo: write code here\n",
      "execution_count": null,
      "outputs": []
    },
    {
      "metadata": {},
      "cell_type": "markdown",
      "source": "## Folium with Leaflet.js\n\nFolium is a Python module wrapper for [Leaflet.js](http://leafletjs.com/), which uses [Open Street Maps](https://www.openstreetmap.us/). These are two, popular open source mapping libraries. Unlike Google maps API, its 100% free!\n\nYou can use Folium to render maps in Python and put data on the maps. Here's how easy it is to bring up a map:\n"
    },
    {
      "metadata": {
        "scrolled": true,
        "trusted": false
      },
      "cell_type": "code",
      "source": "CENTER_US = (39.8333333,-98.585522)\nlondon = (51.5074, -0.1278)\nmap = folium.Map(location=CENTER_US, zoom_start=4)\nmap",
      "execution_count": null,
      "outputs": []
    },
    {
      "metadata": {},
      "cell_type": "markdown",
      "source": "You can zoom right down to the street level and get a amazing detail. There's also different maps you can use, as was covered in this week's reading. \n\n## Mapping the students.\n\nLet's take the largest category of movie goers and map their whereabouts. We will first need to import a data set to give us a lat/lng for the `zip_code` we have in the dataframe. We could look this up with Google's geolookup API, but that's too slow as we will be making 100's of requests. It's better to have them stored already and merge them with `goers`!\n\nLet's import the zipcode database into a Pandas DataFrame, then merge it with the `goers` DataFrame:"
    },
    {
      "metadata": {
        "trusted": false
      },
      "cell_type": "code",
      "source": "zipcodes = pd.read_csv('https://raw.githubusercontent.com/mafudge/datasets/master/zipcodes/free-zipcode-database-Primary.csv', dtype = {'Zipcode' :object})\ndata = goers.merge(zipcodes,  how ='inner', left_on='zip_code', right_on='Zipcode')\nstudents = data[ data['occupation'] == 'student']\nstudents.sample()",
      "execution_count": null,
      "outputs": []
    },
    {
      "metadata": {},
      "cell_type": "markdown",
      "source": "Let's explain the code, as a Pandas refresher course:\n\n1. in the first line I added `dtype = {'Zipcode' :object}` to force the `Zipcode` column to be of type `object` without that, it imports as type `int` and cannot match with the `goers` DataFrame.\n1. the next line merges the two dataframes together where the `zip_code` in `doers` (on_left) matches `Zipcode` in `zipcodes` (on_right)\n1. the result `data` is a combined DataFrame, which we then filter to only `student` occupations, sorting that in the `students` DataFrame\n\n\n## Slapping those students on a map!\n\nWe're ready to place the students on a map. It's easy:\n\n1. For each row in the students dataframe:\n1.   get the coordinates (lat /lng )\n1.   make a `marker` with the coordinates\n1.   add the marker to the map with `add_children()`\n\nHere we go!\n"
    },
    {
      "metadata": {
        "scrolled": true,
        "trusted": false
      },
      "cell_type": "code",
      "source": "for row in students.to_records():\n    pos = (row['Lat'],row['Long'])\n    message = \"%d year old %s  from %s, %s\" % (row['age'],row['gender'], row['City'], row['State'])\n    marker = folium.Marker(location=pos, \n                    popup=message\n                          )\n    map.add_children(marker)\nmap",
      "execution_count": null,
      "outputs": []
    },
    {
      "metadata": {},
      "cell_type": "markdown",
      "source": "### Now you try it!\n\n\n1. use the `data` DataFrame to retrieve only the occupation `programmer`\n1. create another map `map2` plot the programmers on that map!"
    },
    {
      "metadata": {
        "collapsed": true,
        "trusted": false
      },
      "cell_type": "code",
      "source": "## todo write code here!\n",
      "execution_count": null,
      "outputs": []
    }
  ],
  "metadata": {
    "anaconda-cloud": {},
    "kernelspec": {
      "name": "python3",
      "display_name": "Python 3",
      "language": "python"
    },
    "language_info": {
      "mimetype": "text/x-python",
      "nbconvert_exporter": "python",
      "name": "python",
      "file_extension": ".py",
      "version": "3.5.4",
      "pygments_lexer": "ipython3",
      "codemirror_mode": {
        "version": 3,
        "name": "ipython"
      }
    }
  },
  "nbformat": 4,
  "nbformat_minor": 1
}