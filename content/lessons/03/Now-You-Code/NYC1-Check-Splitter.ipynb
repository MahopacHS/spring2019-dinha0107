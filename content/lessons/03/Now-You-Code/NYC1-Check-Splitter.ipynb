{
  "cells": [
    {
      "metadata": {},
      "cell_type": "markdown",
      "source": "# Now You Code 1: Check Splitter\n\nWrite a Python program which splits up a restaurant check. It first prompts you to input the total amount of your check, then the number of people dining. It should then output the amout each diner must contribute to the check.  For example:\n\n```\n*** Check Splitter ***\nHow much is the amount of the check? 100.00\nHow many people ? 6\nEach person owes: $16.67\n```\n\nNOTE: Use string formatters to display the output to two decimal places.\n"
    },
    {
      "metadata": {
        "collapsed": true
      },
      "cell_type": "markdown",
      "source": "## Step 1: Problem Analysis\n\nInputs: input number of people, and input cost of check. \n\nOutputs: how much each person owes.\n\nAlgorithm (Steps in Program):\n \n input number of peeps eating\n input total amount on the check\n calculate how much each peep owes\n output how much each peep owes\n"
    },
    {
      "metadata": {
        "trusted": true
      },
      "cell_type": "code",
      "source": "# Step 2: Write code here\npeeps=int((input(\"Enter number of people eating: \"))\ncheck=float(input(\"Enter the check amount \"))\nowes=float(check/peeps)\nprint(\"Total pay per dude/dudette is: $%.2f\" % (owes))",
      "execution_count": null,
      "outputs": []
    },
    {
      "metadata": {},
      "cell_type": "markdown",
      "source": "## Step 3: Questions\n\n1. What happens when you enter `TWO` instead of `2` for the number of people dining? or $60 as the amount of the check, instead of 60?\n2. What type of error is this? Do you think it can be handled in code?\n3. Explain what happens when you enter `0.5` for the number of people dining? Does the program run? Does it make sense? \n"
    },
    {
      "metadata": {
        "trusted": true
      },
      "cell_type": "code",
      "source": "#1. if you enetered two instead of 2 there will be an error bc the program expects a number when calulating bc you cant divide a number by a string. \n#2. it is a human error\n#3. i've already declared war- i mean I already declared humans as an integer, because it doesn't make sense to have half a human, and yes amputees count as a whole human. ",
      "execution_count": null,
      "outputs": []
    },
    {
      "metadata": {},
      "cell_type": "markdown",
      "source": "## Reminder of Evaluation Criteria\n\n1. What the problem attempted (analysis, code, and answered questions) ?\n2. What the problem analysis thought out? (does the program match the plan?)\n3. Does the code execute without syntax error?\n4. Does the code solve the intended problem?\n5. Is the code well written? (easy to understand, modular, and self-documenting, handles errors)\n"
    },
    {
      "metadata": {
        "collapsed": true,
        "trusted": false
      },
      "cell_type": "code",
      "source": "#1. the problem attempted in this program was the amount each person pays at the diner from the total check. \n#2. the program matches the plan since it was a simple gather the number of people, get the total check and divide to find the amount per person. \n#3. this works without syntax error. \n#4. the code solves the intended problem, which was how much each person should pay. \n#5. the code is written simple, because the problem didn't ask for much, therefore it's easy to understand. ",
      "execution_count": null,
      "outputs": []
    }
  ],
  "metadata": {
    "anaconda-cloud": {},
    "kernelspec": {
      "name": "python3",
      "display_name": "Python 3",
      "language": "python"
    },
    "language_info": {
      "mimetype": "text/x-python",
      "nbconvert_exporter": "python",
      "name": "python",
      "pygments_lexer": "ipython3",
      "version": "3.5.4",
      "file_extension": ".py",
      "codemirror_mode": {
        "version": 3,
        "name": "ipython"
      }
    }
  },
  "nbformat": 4,
  "nbformat_minor": 1
}