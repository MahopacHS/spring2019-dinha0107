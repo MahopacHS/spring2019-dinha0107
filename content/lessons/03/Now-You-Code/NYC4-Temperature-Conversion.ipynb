{
  "cells": [
    {
      "metadata": {},
      "cell_type": "markdown",
      "source": "# Now You Code 4: Temperature Conversion\n\nWrite a python program which will convert temperatures from Celcius to Fahrenheight.\nThe program should take a temperature in degrees Celcius as input and output a temperature in degrees Fahrenheight.\n\nExample:\n\n```\nEnter the temperature in Celcius: 100\n100 Celcius is 212 Fahrenheight\n```\n\nHINT: Use the web to find the formula to convert from Celcius to Fahrenheight.\n"
    },
    {
      "metadata": {},
      "cell_type": "markdown",
      "source": "## Step 1: Problem Analysis\n\nInputs: input the temperature in celcius\n \nOutputs: output the temperature in fahrenheit. \n\nAlgorithm (Steps in Program): \n\ninput temp in C\ncalculate C-> F\noutput temp in F\n\n\n"
    },
    {
      "metadata": {
        "trusted": true
      },
      "cell_type": "code",
      "source": "# Step 2: write code here\n\ncelcius=float(input(\"Enter the temperature in degrees Celcius: \"))\nFahrenheit=float((celcius*(9/5))+32)\nprint(\"The temperature \",celcius,\" in Fahrenheit is \",Fahrenheit)",
      "execution_count": 4,
      "outputs": [
        {
          "output_type": "stream",
          "name": "stdout",
          "text": "Enter the temperature in degrees Celcius: -100\nThe temperature  -100.0  in Fahrenheit is  -148.0\n"
        }
      ]
    },
    {
      "metadata": {},
      "cell_type": "markdown",
      "source": "## Step 3: Questions\n\n1. Why does the program still run when you enter a negative number for temperature? Is this an error?\n2. Would it be difficult to write a program which did the opposite (conversion F to C)? Explain.\n3. Did you store the conversion in a variable before printing it on the last line? I argue this makes your program easier to understand. Why?\n"
    },
    {
      "metadata": {},
      "cell_type": "markdown",
      "source": "#1. The program still ran when I entered a negative number for the temperature. It's not an error since the temperature can be in the negatives. \n#2. It shouldn't be too hard to write the program F -> C, because the set up would be the same, with the change being the formula on the second line. \n#3. I did store my conversion in a variable, you future teller or mind reader. It makes it easier so that the line with the output doesn't look like a mess. Also, storing it into a variable makes it easy to follow and understand the code. "
    },
    {
      "metadata": {},
      "cell_type": "markdown",
      "source": "## Reminder of Evaluation Criteria\n\n1. What the problem attempted (analysis, code, and answered questions) ?\n2. What the problem analysis thought out? (does the program match the plan?)\n3. Does the code execute without syntax error?\n4. Does the code solve the intended problem?\n5. Is the code well written? (easy to understand, modular, and self-documenting, handles errors)\n"
    },
    {
      "metadata": {
        "collapsed": true,
        "trusted": false
      },
      "cell_type": "code",
      "source": "#1. the problem attempted was to convert the temp from C to F. \n#2. the program does match the plan \n#3. the code does work without syntax error. \n#4. the code solves the intended problem\n#5. the code is written simply, making it easy to read and follow. ",
      "execution_count": null,
      "outputs": []
    }
  ],
  "metadata": {
    "anaconda-cloud": {},
    "kernelspec": {
      "name": "python3",
      "display_name": "Python 3",
      "language": "python"
    },
    "language_info": {
      "mimetype": "text/x-python",
      "nbconvert_exporter": "python",
      "name": "python",
      "file_extension": ".py",
      "version": "3.5.4",
      "pygments_lexer": "ipython3",
      "codemirror_mode": {
        "version": 3,
        "name": "ipython"
      }
    }
  },
  "nbformat": 4,
  "nbformat_minor": 1
}