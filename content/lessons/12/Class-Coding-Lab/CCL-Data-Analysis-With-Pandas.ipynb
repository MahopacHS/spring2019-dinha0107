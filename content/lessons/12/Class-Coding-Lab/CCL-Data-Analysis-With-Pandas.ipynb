{
  "cells": [
    {
      "metadata": {},
      "cell_type": "markdown",
      "source": "# In-Class Coding Lab: Data Analysis with Pandas\n\nIn this lab, we will perform a data analysis on the **RMS Titanic** passenger list. The RMS Titanic is one of the most famous ocean liners in history. On April 15, 1912 it sank after colliding with an iceberg in the North Atlantic Ocean. To learn more, read here: https://en.wikipedia.org/wiki/RMS_Titanic \n\nOur goal today is to perform a data analysis on a subset of the passenger list. We're looking for insights as to which types of passengers did and didn't survive. Women? Children? 1st Class Passengers? 3rd class? Etc. \n\nI'm sure you've heard the expression often said during emergencies: \"Women and Children first\" Let's explore this data set and find out if that's true!\n\nBefore we begin you should read up on what each of the columns mean in the data dictionary. You can find this information on this page: https://www.kaggle.com/c/titanic/data \n\n\n## Loading the data set\n\nFirst we load the dataset into a Pandas `DataFrame` variable. The `sample(10)` method takes a random sample of 10 passengers from the data set."
    },
    {
      "metadata": {
        "trusted": true
      },
      "cell_type": "code",
      "source": "import pandas as pd\nimport numpy as np\n\n# this turns off warning messages\nimport warnings\nwarnings.filterwarnings('ignore')\n\npassengers = pd.read_csv('CCL-titanic.csv')\npassengers.sample(10)",
      "execution_count": 1,
      "outputs": [
        {
          "output_type": "execute_result",
          "execution_count": 1,
          "data": {
            "text/plain": "     PassengerId  Survived  Pclass  \\\n853          854         1       1   \n748          749         0       1   \n167          168         0       3   \n501          502         0       3   \n172          173         1       3   \n307          308         1       1   \n739          740         0       3   \n300          301         1       3   \n469          470         1       3   \n839          840         1       1   \n\n                                                  Name     Sex    Age  SibSp  \\\n853                          Lines, Miss. Mary Conover  female  16.00      0   \n748                          Marvin, Mr. Daniel Warner    male  19.00      1   \n167    Skoog, Mrs. William (Anna Bernhardina Karlsson)  female  45.00      1   \n501                                Canavan, Miss. Mary  female  21.00      0   \n172                       Johnson, Miss. Eleanor Ileen  female   1.00      1   \n307  Penasco y Castellana, Mrs. Victor de Satode (M...  female  17.00      1   \n739                                 Nankoff, Mr. Minko    male    NaN      0   \n300           Kelly, Miss. Anna Katherine \"Annie Kate\"  female    NaN      0   \n469                      Baclini, Miss. Helene Barbara  female   0.75      2   \n839                               Marechal, Mr. Pierre    male    NaN      0   \n\n     Parch    Ticket      Fare Cabin Embarked  \n853      1  PC 17592   39.4000   D28        S  \n748      0    113773   53.1000   D30        S  \n167      4    347088   27.9000   NaN        S  \n501      0    364846    7.7500   NaN        Q  \n172      1    347742   11.1333   NaN        S  \n307      0  PC 17758  108.9000   C65        C  \n739      0    349218    7.8958   NaN        S  \n300      0      9234    7.7500   NaN        Q  \n469      1      2666   19.2583   NaN        C  \n839      0     11774   29.7000   C47        C  ",
            "text/html": "<div>\n<table border=\"1\" class=\"dataframe\">\n  <thead>\n    <tr style=\"text-align: right;\">\n      <th></th>\n      <th>PassengerId</th>\n      <th>Survived</th>\n      <th>Pclass</th>\n      <th>Name</th>\n      <th>Sex</th>\n      <th>Age</th>\n      <th>SibSp</th>\n      <th>Parch</th>\n      <th>Ticket</th>\n      <th>Fare</th>\n      <th>Cabin</th>\n      <th>Embarked</th>\n    </tr>\n  </thead>\n  <tbody>\n    <tr>\n      <th>853</th>\n      <td>854</td>\n      <td>1</td>\n      <td>1</td>\n      <td>Lines, Miss. Mary Conover</td>\n      <td>female</td>\n      <td>16.00</td>\n      <td>0</td>\n      <td>1</td>\n      <td>PC 17592</td>\n      <td>39.4000</td>\n      <td>D28</td>\n      <td>S</td>\n    </tr>\n    <tr>\n      <th>748</th>\n      <td>749</td>\n      <td>0</td>\n      <td>1</td>\n      <td>Marvin, Mr. Daniel Warner</td>\n      <td>male</td>\n      <td>19.00</td>\n      <td>1</td>\n      <td>0</td>\n      <td>113773</td>\n      <td>53.1000</td>\n      <td>D30</td>\n      <td>S</td>\n    </tr>\n    <tr>\n      <th>167</th>\n      <td>168</td>\n      <td>0</td>\n      <td>3</td>\n      <td>Skoog, Mrs. William (Anna Bernhardina Karlsson)</td>\n      <td>female</td>\n      <td>45.00</td>\n      <td>1</td>\n      <td>4</td>\n      <td>347088</td>\n      <td>27.9000</td>\n      <td>NaN</td>\n      <td>S</td>\n    </tr>\n    <tr>\n      <th>501</th>\n      <td>502</td>\n      <td>0</td>\n      <td>3</td>\n      <td>Canavan, Miss. Mary</td>\n      <td>female</td>\n      <td>21.00</td>\n      <td>0</td>\n      <td>0</td>\n      <td>364846</td>\n      <td>7.7500</td>\n      <td>NaN</td>\n      <td>Q</td>\n    </tr>\n    <tr>\n      <th>172</th>\n      <td>173</td>\n      <td>1</td>\n      <td>3</td>\n      <td>Johnson, Miss. Eleanor Ileen</td>\n      <td>female</td>\n      <td>1.00</td>\n      <td>1</td>\n      <td>1</td>\n      <td>347742</td>\n      <td>11.1333</td>\n      <td>NaN</td>\n      <td>S</td>\n    </tr>\n    <tr>\n      <th>307</th>\n      <td>308</td>\n      <td>1</td>\n      <td>1</td>\n      <td>Penasco y Castellana, Mrs. Victor de Satode (M...</td>\n      <td>female</td>\n      <td>17.00</td>\n      <td>1</td>\n      <td>0</td>\n      <td>PC 17758</td>\n      <td>108.9000</td>\n      <td>C65</td>\n      <td>C</td>\n    </tr>\n    <tr>\n      <th>739</th>\n      <td>740</td>\n      <td>0</td>\n      <td>3</td>\n      <td>Nankoff, Mr. Minko</td>\n      <td>male</td>\n      <td>NaN</td>\n      <td>0</td>\n      <td>0</td>\n      <td>349218</td>\n      <td>7.8958</td>\n      <td>NaN</td>\n      <td>S</td>\n    </tr>\n    <tr>\n      <th>300</th>\n      <td>301</td>\n      <td>1</td>\n      <td>3</td>\n      <td>Kelly, Miss. Anna Katherine \"Annie Kate\"</td>\n      <td>female</td>\n      <td>NaN</td>\n      <td>0</td>\n      <td>0</td>\n      <td>9234</td>\n      <td>7.7500</td>\n      <td>NaN</td>\n      <td>Q</td>\n    </tr>\n    <tr>\n      <th>469</th>\n      <td>470</td>\n      <td>1</td>\n      <td>3</td>\n      <td>Baclini, Miss. Helene Barbara</td>\n      <td>female</td>\n      <td>0.75</td>\n      <td>2</td>\n      <td>1</td>\n      <td>2666</td>\n      <td>19.2583</td>\n      <td>NaN</td>\n      <td>C</td>\n    </tr>\n    <tr>\n      <th>839</th>\n      <td>840</td>\n      <td>1</td>\n      <td>1</td>\n      <td>Marechal, Mr. Pierre</td>\n      <td>male</td>\n      <td>NaN</td>\n      <td>0</td>\n      <td>0</td>\n      <td>11774</td>\n      <td>29.7000</td>\n      <td>C47</td>\n      <td>C</td>\n    </tr>\n  </tbody>\n</table>\n</div>"
          },
          "metadata": {}
        }
      ]
    },
    {
      "metadata": {},
      "cell_type": "markdown",
      "source": "## How many survived?\n\nOne of the first things we should do is figure out how many of the passengers in this data set survived. Let's start with isolating just the `'Survivied'` column into a series:"
    },
    {
      "metadata": {
        "trusted": true
      },
      "cell_type": "code",
      "source": "passengers['Survived'].sample(10)",
      "execution_count": 2,
      "outputs": [
        {
          "output_type": "execute_result",
          "execution_count": 2,
          "data": {
            "text/plain": "81     1\n318    1\n2      1\n617    0\n436    0\n516    1\n413    0\n95     0\n711    0\n537    1\nName: Survived, dtype: int64"
          },
          "metadata": {}
        }
      ]
    },
    {
      "metadata": {},
      "cell_type": "markdown",
      "source": "There's too many to display so we just display a random sample of 10 passengers. \n\n- 1 means the passenger survivied\n- 0 means the passenger died\n\nWhat we really want is to count the number of survivors and deaths. We do this by querying the `value_counts()` of the `['Survived']` column, which returns a `Series` of counts, like this:"
    },
    {
      "metadata": {
        "trusted": true
      },
      "cell_type": "code",
      "source": "passengers['Survived'].value_counts()",
      "execution_count": 3,
      "outputs": [
        {
          "output_type": "execute_result",
          "execution_count": 3,
          "data": {
            "text/plain": "0    549\n1    342\nName: Survived, dtype: int64"
          },
          "metadata": {}
        }
      ]
    },
    {
      "metadata": {},
      "cell_type": "markdown",
      "source": "Only 342 passengers survived, and 549 perished. Let's observe this same data as percentages of the whole. We do this by adding the `normalize=True` named argument to the `value_counts()` method."
    },
    {
      "metadata": {
        "trusted": true
      },
      "cell_type": "code",
      "source": "passengers['Survived'].value_counts(normalize=True)",
      "execution_count": 4,
      "outputs": [
        {
          "output_type": "execute_result",
          "execution_count": 4,
          "data": {
            "text/plain": "0    0.616162\n1    0.383838\nName: Survived, dtype: float64"
          },
          "metadata": {}
        }
      ]
    },
    {
      "metadata": {},
      "cell_type": "markdown",
      "source": "**Just 38% of passengers in this dataset survived.**"
    },
    {
      "metadata": {},
      "cell_type": "markdown",
      "source": "### Now you Try it!\n\n**FIRST** Write a Pandas expression to display counts of males and female passengers using the `Sex` variable:"
    },
    {
      "metadata": {
        "trusted": true
      },
      "cell_type": "code",
      "source": "# todo write code here\npassengers['Sex'].value_counts()\n\n",
      "execution_count": 5,
      "outputs": [
        {
          "output_type": "execute_result",
          "execution_count": 5,
          "data": {
            "text/plain": "male      577\nfemale    314\nName: Sex, dtype: int64"
          },
          "metadata": {}
        }
      ]
    },
    {
      "metadata": {},
      "cell_type": "markdown",
      "source": "**NEXT** Write a Pandas expression to display male /female passenger counts as a percentage of the whole number of passengers in the data set."
    },
    {
      "metadata": {
        "trusted": true
      },
      "cell_type": "code",
      "source": "# todo write code here\npassengers['Sex'].value_counts(normalize=True)\n",
      "execution_count": 6,
      "outputs": [
        {
          "output_type": "execute_result",
          "execution_count": 6,
          "data": {
            "text/plain": "male      0.647587\nfemale    0.352413\nName: Sex, dtype: float64"
          },
          "metadata": {}
        }
      ]
    },
    {
      "metadata": {},
      "cell_type": "markdown",
      "source": "If you got things working, you now know that **35% of passengers were female**."
    },
    {
      "metadata": {},
      "cell_type": "markdown",
      "source": "## Who survivies? Men or Women?\n\nWe now know that 35% of the passengers were female, and 65% we male. \n\n**The next think to think about is how do survivial rates affect these numbers? **\n\nIf the ratio is about the same for surviviors only, then we can conclude that your **Sex** did not play a role in your survival on the RMS Titanic. \n\nLet's find out."
    },
    {
      "metadata": {
        "trusted": true
      },
      "cell_type": "code",
      "source": "survivors = passengers[passengers['Survived'] ==1]\nsurvivors['PassengerId'].count()",
      "execution_count": 7,
      "outputs": [
        {
          "output_type": "execute_result",
          "execution_count": 7,
          "data": {
            "text/plain": "342"
          },
          "metadata": {}
        }
      ]
    },
    {
      "metadata": {},
      "cell_type": "markdown",
      "source": "Still **342** like we discovered originally. Now let's check the **Sex** split among survivors only:"
    },
    {
      "metadata": {
        "trusted": true
      },
      "cell_type": "code",
      "source": "survivors['Sex'].value_counts()",
      "execution_count": 8,
      "outputs": [
        {
          "output_type": "execute_result",
          "execution_count": 8,
          "data": {
            "text/plain": "female    233\nmale      109\nName: Sex, dtype: int64"
          },
          "metadata": {}
        }
      ]
    },
    {
      "metadata": {},
      "cell_type": "markdown",
      "source": "WOW! That is a huge difference! But you probably can't see it easily. Let's represent it in a `DataFrame`, so that it's easier to visualize:"
    },
    {
      "metadata": {
        "trusted": true
      },
      "cell_type": "code",
      "source": "sex_all_series = passengers['Sex'].value_counts()\nsex_survivor_series = survivors['Sex'].value_counts()\n\nsex_comparision_df = pd.DataFrame({ 'AllPassengers' : sex_all_series, 'Survivors' : sex_survivor_series })\nsex_comparision_df['SexSurvivialRate'] = sex_comparision_df['Survivors'] / sex_comparision_df['AllPassengers']\nsex_comparision_df",
      "execution_count": 9,
      "outputs": [
        {
          "output_type": "execute_result",
          "execution_count": 9,
          "data": {
            "text/plain": "        AllPassengers  Survivors  SexSurvivialRate\nfemale            314        233          0.742038\nmale              577        109          0.188908",
            "text/html": "<div>\n<table border=\"1\" class=\"dataframe\">\n  <thead>\n    <tr style=\"text-align: right;\">\n      <th></th>\n      <th>AllPassengers</th>\n      <th>Survivors</th>\n      <th>SexSurvivialRate</th>\n    </tr>\n  </thead>\n  <tbody>\n    <tr>\n      <th>female</th>\n      <td>314</td>\n      <td>233</td>\n      <td>0.742038</td>\n    </tr>\n    <tr>\n      <th>male</th>\n      <td>577</td>\n      <td>109</td>\n      <td>0.188908</td>\n    </tr>\n  </tbody>\n</table>\n</div>"
          },
          "metadata": {}
        }
      ]
    },
    {
      "metadata": {},
      "cell_type": "markdown",
      "source": " **So, females had a 74% survival rate. Much better than the overall rate of 38%**\n \nWe should probably briefly explain the code above. \n\n- The first two lines get a series count of all passengers by Sex (male / female) and count of survivors by sex\n- The third line creates DataFrame. Recall a pandas dataframe is just a dict of series. We have two keys 'AllPassengers' and 'Survivors'\n- The  fourth line creates a new column in the dataframe which is just the survivors / all passengers to get the rate of survival for that Sex.\n\n## Feature Engineering: Adults and Children\n\nSometimes the variable we want to analyze is not readily available, but can be created from existing data. This is commonly referred to as **feature engineering**. The name comes from machine learning where we use data called *features* to predict an outcome. \n\nLet's create a new feature called `'AgeCat'` as follows:\n\n- When **Age** <=18 then 'Child'\n- When **Age** >18 then 'Adult'\n\nThis is easy to do in pandas. First we create the column and set all values to `np.nan` which means 'Not a number'. This is Pandas way of saying no value. Then we set the values based on the rules we set for the feature."
    },
    {
      "metadata": {
        "trusted": true
      },
      "cell_type": "code",
      "source": "passengers['AgeCat'] = np.nan # Not a number\npassengers['AgeCat'][ passengers['Age'] <=18 ] = 'Child'\npassengers['AgeCat'][ passengers['Age'] > 18 ] = 'Adult'\npassengers.sample(5)",
      "execution_count": 10,
      "outputs": [
        {
          "output_type": "execute_result",
          "execution_count": 10,
          "data": {
            "text/plain": "     PassengerId  Survived  Pclass  \\\n759          760         1       1   \n215          216         1       1   \n712          713         1       1   \n302          303         0       3   \n1              2         1       1   \n\n                                                  Name     Sex   Age  SibSp  \\\n759  Rothes, the Countess. of (Lucy Noel Martha Dye...  female  33.0      0   \n215                            Newell, Miss. Madeleine  female  31.0      1   \n712                           Taylor, Mr. Elmer Zebley    male  48.0      1   \n302                    Johnson, Mr. William Cahoone Jr    male  19.0      0   \n1    Cumings, Mrs. John Bradley (Florence Briggs Th...  female  38.0      1   \n\n     Parch    Ticket      Fare Cabin Embarked AgeCat  \n759      0    110152   86.5000   B77        S  Adult  \n215      0     35273  113.2750   D36        C  Adult  \n712      0     19996   52.0000  C126        S  Adult  \n302      0      LINE    0.0000   NaN        S  Adult  \n1        0  PC 17599   71.2833   C85        C  Adult  ",
            "text/html": "<div>\n<table border=\"1\" class=\"dataframe\">\n  <thead>\n    <tr style=\"text-align: right;\">\n      <th></th>\n      <th>PassengerId</th>\n      <th>Survived</th>\n      <th>Pclass</th>\n      <th>Name</th>\n      <th>Sex</th>\n      <th>Age</th>\n      <th>SibSp</th>\n      <th>Parch</th>\n      <th>Ticket</th>\n      <th>Fare</th>\n      <th>Cabin</th>\n      <th>Embarked</th>\n      <th>AgeCat</th>\n    </tr>\n  </thead>\n  <tbody>\n    <tr>\n      <th>759</th>\n      <td>760</td>\n      <td>1</td>\n      <td>1</td>\n      <td>Rothes, the Countess. of (Lucy Noel Martha Dye...</td>\n      <td>female</td>\n      <td>33.0</td>\n      <td>0</td>\n      <td>0</td>\n      <td>110152</td>\n      <td>86.5000</td>\n      <td>B77</td>\n      <td>S</td>\n      <td>Adult</td>\n    </tr>\n    <tr>\n      <th>215</th>\n      <td>216</td>\n      <td>1</td>\n      <td>1</td>\n      <td>Newell, Miss. Madeleine</td>\n      <td>female</td>\n      <td>31.0</td>\n      <td>1</td>\n      <td>0</td>\n      <td>35273</td>\n      <td>113.2750</td>\n      <td>D36</td>\n      <td>C</td>\n      <td>Adult</td>\n    </tr>\n    <tr>\n      <th>712</th>\n      <td>713</td>\n      <td>1</td>\n      <td>1</td>\n      <td>Taylor, Mr. Elmer Zebley</td>\n      <td>male</td>\n      <td>48.0</td>\n      <td>1</td>\n      <td>0</td>\n      <td>19996</td>\n      <td>52.0000</td>\n      <td>C126</td>\n      <td>S</td>\n      <td>Adult</td>\n    </tr>\n    <tr>\n      <th>302</th>\n      <td>303</td>\n      <td>0</td>\n      <td>3</td>\n      <td>Johnson, Mr. William Cahoone Jr</td>\n      <td>male</td>\n      <td>19.0</td>\n      <td>0</td>\n      <td>0</td>\n      <td>LINE</td>\n      <td>0.0000</td>\n      <td>NaN</td>\n      <td>S</td>\n      <td>Adult</td>\n    </tr>\n    <tr>\n      <th>1</th>\n      <td>2</td>\n      <td>1</td>\n      <td>1</td>\n      <td>Cumings, Mrs. John Bradley (Florence Briggs Th...</td>\n      <td>female</td>\n      <td>38.0</td>\n      <td>1</td>\n      <td>0</td>\n      <td>PC 17599</td>\n      <td>71.2833</td>\n      <td>C85</td>\n      <td>C</td>\n      <td>Adult</td>\n    </tr>\n  </tbody>\n</table>\n</div>"
          },
          "metadata": {}
        }
      ]
    },
    {
      "metadata": {},
      "cell_type": "markdown",
      "source": "Let's get the count and distrubutions of Adults and Children on the passenger list."
    },
    {
      "metadata": {
        "trusted": true
      },
      "cell_type": "code",
      "source": "passengers['AgeCat'].value_counts()",
      "execution_count": 11,
      "outputs": [
        {
          "output_type": "execute_result",
          "execution_count": 11,
          "data": {
            "text/plain": "Adult    575\nChild    139\nName: AgeCat, dtype: int64"
          },
          "metadata": {}
        }
      ]
    },
    {
      "metadata": {},
      "cell_type": "markdown",
      "source": "And here's the percentage as a whole:"
    },
    {
      "metadata": {
        "trusted": true
      },
      "cell_type": "code",
      "source": "passengers['AgeCat'].value_counts(normalize=True)",
      "execution_count": 12,
      "outputs": [
        {
          "output_type": "execute_result",
          "execution_count": 12,
          "data": {
            "text/plain": "Adult    0.805322\nChild    0.194678\nName: AgeCat, dtype: float64"
          },
          "metadata": {}
        }
      ]
    },
    {
      "metadata": {},
      "cell_type": "markdown",
      "source": "So close to **80%** of the passengers were adults. Once again let's look at the ratio of `AgeCat` for survivors only. If your age has no bearing of survivial, then the rates should be the same. \n\nHere's the counts of Adult / Children among the survivors only:"
    },
    {
      "metadata": {
        "trusted": true
      },
      "cell_type": "code",
      "source": "survivors = passengers[passengers['Survived'] ==1]\nsurvivors['AgeCat'].value_counts()",
      "execution_count": 13,
      "outputs": [
        {
          "output_type": "execute_result",
          "execution_count": 13,
          "data": {
            "text/plain": "Adult    220\nChild     70\nName: AgeCat, dtype: int64"
          },
          "metadata": {}
        }
      ]
    },
    {
      "metadata": {},
      "cell_type": "markdown",
      "source": "### Now You Try it!\n\nCalculate the `AgeCat` survival rate, similar to how we did for the `SexSurvivalRate`. "
    },
    {
      "metadata": {
        "trusted": true
      },
      "cell_type": "code",
      "source": "agecat_all_series = passengers['AgeCat'].value_counts()\nagecat_survivor_series = survivors['AgeCat'].value_counts()\n\n# todo make a data frame, add AgeCatSurvivialRate column, display dataframe \n\nAge = pd.DataFrame({ 'All_Age' : agecat_all_series , 'Survivor' : agecat_survivor_series })\nAge['AgeCat'] = sex_comparision_df['Survivor'] / sex_comparision_df['All_Age']\nAge\n",
      "execution_count": 14,
      "outputs": []
    },
    {
      "metadata": {},
      "cell_type": "markdown",
      "source": "**So, children had a 50% survival rate, better than the overall rate of 38%**\n\n## So, women and children first?\n\nIt looks like the RMS really did have the motto: \"Women and Children First.\"\n\nHere's our insights. We know:\n\n- If you were a passenger, you had a 38% chance of survival.\n- If you were a female passenger, you had a 74% chance of survival.\n- If you were a child passenger, you had a 50% chance of survival. \n\n\n### Now you try it for Passenger Class\n\nRepeat this process for `Pclass` The passenger class variable. Display the survival rates for each passenger class. What does the information tell you about passenger class and survival rates?\n\nI'll give you a hint... \"Money Talks\"\n"
    },
    {
      "metadata": {
        "trusted": false
      },
      "cell_type": "code",
      "source": "# todo: repeat the analysis in the previous cell for Pclass \n\n",
      "execution_count": null,
      "outputs": []
    }
  ],
  "metadata": {
    "anaconda-cloud": {},
    "kernelspec": {
      "name": "python3",
      "display_name": "Python 3",
      "language": "python"
    },
    "language_info": {
      "mimetype": "text/x-python",
      "nbconvert_exporter": "python",
      "name": "python",
      "file_extension": ".py",
      "version": "3.5.4",
      "pygments_lexer": "ipython3",
      "codemirror_mode": {
        "version": 3,
        "name": "ipython"
      }
    }
  },
  "nbformat": 4,
  "nbformat_minor": 1
}