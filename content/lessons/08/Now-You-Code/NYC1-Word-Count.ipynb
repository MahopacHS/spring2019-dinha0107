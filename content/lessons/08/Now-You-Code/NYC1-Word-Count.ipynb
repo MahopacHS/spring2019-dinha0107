{
  "cells": [
    {
      "metadata": {},
      "cell_type": "markdown",
      "source": "# Now You Code 1: Word Count\n\nLet's write a program which takes a file name as input, counts the number of words in the file, then outputs the word count.\n\nThe program should handle `FileNotFoundError` as an exception in case you enter a file that does not exist.\n\nSample Run #1:\n\n```\nWord Count!\nEnter Filename: NYC1-romeo.txt\nThere are 33 words in NYC1-romeo.txt\n```\n\nSample Run #2:\n\n```\nWord Count!\nEnter Filename: testing\nFile Not Found: testing\n```\nTry these files:\n\n- `NYC1-cant-stop-the-feeling.txt`\n- `NYC1-preamble.txt`\n- `NYC1-romeo.txt` or \n- `NYC1-zork.txt`\n\n\n**HINT**: Read in the file a line at a time, then split the line into words and count each word... and remember your algorithm does not need to account for exceptions... those are programming concerns!\n"
    },
    {
      "metadata": {
        "collapsed": true
      },
      "cell_type": "markdown",
      "source": "## Step 1: Problem Analysis\n\nInputs:  file name\n\nOutputs:   word count\n \nAlgorithm (Steps in Program):   enter file name, read in each line, count each word on each line, add up word counts, print count. \n\n\n"
    },
    {
      "metadata": {
        "trusted": true
      },
      "cell_type": "code",
      "source": "## Step 2: write code here\ncount=0\nwith open(\"NYC1-cant-stop-the-feeling.txt\", 'r') as feeling:\n    for line in feeling.readlines():\n        print(line.strip())\n        text=line.split(' ')\n\n",
      "execution_count": 4,
      "outputs": [
        {
          "output_type": "stream",
          "text": "I got this feeling inside my bones\nIt goes electric, wavey when I turn it on\nAll through my city, all through my home\nWe're flying up, no ceiling, when we're in our zone\n\nI got that sunshine in my pocket\nGot that good soul in my feet\nI feel that hot blood in my body when it drops, ooh\nI can't take my eyes up off it, moving so phenomenally\nRoom on lock the way we rock it, so don't stop\n\nAnd under the lights when everything goes\nNowhere to hide when I'm getting you close\nWhen we move, well, you already know\nSo just imagine, just imagine, just imagine\nNothing I can see but you when you dance, dance, dance\nFeeling good, good, creeping up on you\nSo just dance, dance, dance, come on\nAll those things I shouldn't do\nBut you dance, dance, dance\nAnd ain't nobody leaving soon, so keep dancing\n\nI can't stop the feeling\nSo just dance, dance, dance\nI can't stop the feeling\nSo just dance, dance, dance, come on\n\nOoh, it's something magical\nIt's in the air, it's in my blood, it's rushing on\nDon't need no reason, don't need control\nI fly so high, no ceiling, when I'm in my zone\n\n'Cause I got that sunshine in my pocket\nGot that good soul in my feet\nI feel that hot blood in my body when it drops, ooh\nI can't take my eyes up off it, moving so phenomenally\nRoom on lock the way we rock it, so don't stop\n\nAnd under the lights when everything goes\nNowhere to hide when I'm getting you close\nWhen we move, well, you already know\nSo just imagine, just imagine, just imagine\nNothing I can see but you when you dance, dance, dance\nFeeling good, good, creeping up on you\nSo just dance, dance, dance, come on\nAll those things I shouldn't do\nBut you dance, dance, dance\nAnd ain't nobody leaving soon, so keep dancing\n\nI can't stop the feeling\nSo just dance, dance, dance\nI can't stop the feeling\nSo just dance, dance, dance\nI can't stop the feeling\nSo just dance, dance, dance\nI can't stop the feeling\nSo keep dancing, come on\n\nI can't stop the, I can't stop the\nI can't stop the, I can't stop the\nI can't stop the feeling\n\nNothing I can see but you when you dance, dance, dance\n(I can't stop the feeling)\nFeeling good, good, creeping up on you\nSo just dance, dance, dance, come on\n(I can't stop the feeling)\nAll those things I shouldn't do\nBut you dance, dance, dance\n(I can't stop the feeling)\nAnd ain't nobody leaving soon, so keep dancing\n\nEverybody sing\n(I can't stop the feeling)\nGot this feeling in my body\n(I can't stop the feeling)\nGot this feeling in my body\n(I can't stop the feeling)\nWanna see you move your body\n(I can't stop the feeling)\nGot this feeling in my body\nBreak it down\nGot this feeling in my body\nCan't stop the feeling\nGot this feeling in my body, come on\n",
          "name": "stdout"
        }
      ]
    },
    {
      "metadata": {
        "collapsed": true
      },
      "cell_type": "markdown",
      "source": "## Step 3: Questions\n\n1. Where are these files located? Make your own file, add words to it then run with the word count program.\n2. Explain a strategy for mkaing this program  smarter so that it does not include puncutuation in the word counts?\n3. Is it possible to have a file with a word count of 0? Explain.\n"
    },
    {
      "metadata": {},
      "cell_type": "markdown",
      "source": "## Reminder of Evaluation Criteria\n\n1. What the problem attempted (analysis, code, and answered questions) ?\n2. What the problem analysis thought out? (does the program match the plan?)\n3. Does the code execute without syntax error?\n4. Does the code solve the intended problem?\n5. Is the code well written? (easy to understand, modular, and self-documenting, handles errors)\n"
    },
    {
      "metadata": {
        "trusted": false
      },
      "cell_type": "code",
      "source": "",
      "execution_count": null,
      "outputs": []
    }
  ],
  "metadata": {
    "anaconda-cloud": {},
    "kernelspec": {
      "name": "python3",
      "display_name": "Python 3",
      "language": "python"
    },
    "language_info": {
      "mimetype": "text/x-python",
      "nbconvert_exporter": "python",
      "name": "python",
      "file_extension": ".py",
      "version": "3.5.4",
      "pygments_lexer": "ipython3",
      "codemirror_mode": {
        "version": 3,
        "name": "ipython"
      }
    }
  },
  "nbformat": 4,
  "nbformat_minor": 1
}